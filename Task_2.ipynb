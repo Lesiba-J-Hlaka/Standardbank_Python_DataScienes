{
 "cells": [
  {
   "cell_type": "code",
   "execution_count": 80,
   "id": "6bf4d2f9",
   "metadata": {},
   "outputs": [],
   "source": [
    "#imports\n",
    "import pandas as pd\n",
    "import numpy as np\n",
    "import matplotlib.pyplot as plt\n",
    "\n"
   ]
  },
  {
   "cell_type": "code",
   "execution_count": 30,
   "id": "508efe44",
   "metadata": {},
   "outputs": [
    {
     "name": "stdout",
     "output_type": "stream",
     "text": [
      "Number of records: 614\n",
      "Number of fields: 13\n",
      "\n",
      "Data types of fields:\n",
      "Loan_ID               object\n",
      "Gender                object\n",
      "Married               object\n",
      "Dependents            object\n",
      "Education             object\n",
      "Self_Employed         object\n",
      "ApplicantIncome        int64\n",
      "CoapplicantIncome    float64\n",
      "LoanAmount           float64\n",
      "Loan_Amount_Term     float64\n",
      "Credit_History       float64\n",
      "Property_Area         object\n",
      "Loan_Status           object\n",
      "dtype: object\n"
     ]
    }
   ],
   "source": [
    "#question 1. An overview of the data. \n",
    "#train dataset\n",
    "df = pd.read_csv('train.csv')\n",
    "df.head()\n",
    "num_records = len(df)\n",
    "num_fields = len(df.columns)\n",
    "data_types = df.dtypes\n",
    "\n",
    "print(\"Number of records:\", num_records)\n",
    "print(\"Number of fields:\", num_fields)\n",
    "print(\"\\nData types of fields:\")\n",
    "print(data_types)\n"
   ]
  },
  {
   "cell_type": "code",
   "execution_count": 31,
   "id": "382b98ba",
   "metadata": {},
   "outputs": [
    {
     "name": "stdout",
     "output_type": "stream",
     "text": [
      "Number of records: 367\n",
      "Number of fields: 12\n",
      "\n",
      "Data types of fields:\n",
      "Loan_ID               object\n",
      "Gender                object\n",
      "Married               object\n",
      "Dependents            object\n",
      "Education             object\n",
      "Self_Employed         object\n",
      "ApplicantIncome        int64\n",
      "CoapplicantIncome      int64\n",
      "LoanAmount           float64\n",
      "Loan_Amount_Term     float64\n",
      "Credit_History       float64\n",
      "Property_Area         object\n",
      "dtype: object\n"
     ]
    }
   ],
   "source": [
    "#test dataset\n",
    "df = pd.read_csv('test.csv')\n",
    "df.head()\n",
    "num_records = len(df)\n",
    "num_fields = len(df.columns)\n",
    "data_types = df.dtypes\n",
    "\n",
    "print(\"Number of records:\", num_records)\n",
    "print(\"Number of fields:\", num_fields)\n",
    "print(\"\\nData types of fields:\")\n",
    "print(data_types)\n"
   ]
  },
  {
   "cell_type": "code",
   "execution_count": 39,
   "id": "6596c558",
   "metadata": {},
   "outputs": [
    {
     "name": "stdout",
     "output_type": "stream",
     "text": [
      "Missing Values in Train Data:\n",
      "Loan_ID               0\n",
      "Gender               13\n",
      "Married               3\n",
      "Dependents           15\n",
      "Education             0\n",
      "Self_Employed        32\n",
      "ApplicantIncome       0\n",
      "CoapplicantIncome     0\n",
      "LoanAmount           22\n",
      "Loan_Amount_Term     14\n",
      "Credit_History       50\n",
      "Property_Area         0\n",
      "Loan_Status           0\n",
      "dtype: int64\n",
      "\n",
      "Missing Values in Test Data:\n",
      "Loan_ID               0\n",
      "Gender               11\n",
      "Married               0\n",
      "Dependents           10\n",
      "Education             0\n",
      "Self_Employed        23\n",
      "ApplicantIncome       0\n",
      "CoapplicantIncome     0\n",
      "LoanAmount            5\n",
      "Loan_Amount_Term      6\n",
      "Credit_History       29\n",
      "Property_Area         0\n",
      "dtype: int64\n",
      "\n",
      "Duplicate Rows in Train Data: 0\n",
      "Duplicate Rows in Test Data: 0\n"
     ]
    }
   ],
   "source": [
    "#2.What data quality issues exist in both train and test?\n",
    "\n",
    "\n",
    "\n",
    "train_data = pd.read_csv('train.csv')\n",
    "test_data = pd.read_csv('test.csv')\n",
    "\n",
    "train_missing_values = train_data.isnull().sum()\n",
    "\n",
    "\n",
    "test_missing_values = test_data.isnull().sum()\n",
    "\n",
    "\n",
    "train_duplicates = train_data.duplicated().sum()\n",
    "\n",
    "test_duplicates = test_data.duplicated().sum()\n",
    "\n",
    "print(\"Missing Values in Train Data:\")\n",
    "print(train_missing_values)\n",
    "\n",
    "print(\"\\nMissing Values in Test Data:\")\n",
    "print(test_missing_values)\n",
    "\n",
    "print(\"\\nDuplicate Rows in Train Data:\", train_duplicates)\n",
    "print(\"Duplicate Rows in Test Data:\", test_duplicates)"
   ]
  },
  {
   "cell_type": "code",
   "execution_count": 66,
   "id": "ee132de5",
   "metadata": {},
   "outputs": [
    {
     "name": "stdout",
     "output_type": "stream",
     "text": [
      "Y    422\n",
      "N    192\n",
      "Name: Loan_Status, dtype: int64\n"
     ]
    }
   ],
   "source": [
    "#3.How do the the loan statuses compare? i.e. what is the distrubition of each?\n",
    "\n",
    "train = pd.read_csv('train.csv')\n",
    "loan_status_distribution = train['Loan_Status'].value_counts()\n",
    "\n",
    "print(loan_status_distribution)"
   ]
  },
  {
   "cell_type": "code",
   "execution_count": 59,
   "id": "e4de0804",
   "metadata": {},
   "outputs": [
    {
     "name": "stdout",
     "output_type": "stream",
     "text": [
      "Total loan applicants with Dependents: 357\n"
     ]
    }
   ],
   "source": [
    "#4.How many of the loan applicants have dependents based on the historical dataset?\n",
    "num_applicants_with_dependents = df['Dependents'].notnull().sum()\n",
    "print(f'Total loan applicants with Dependents: {num_applicants_with_dependents}')"
   ]
  },
  {
   "cell_type": "code",
   "execution_count": 77,
   "id": "0e998a82",
   "metadata": {},
   "outputs": [
    {
     "name": "stdout",
     "output_type": "stream",
     "text": [
      "Self_Employed\n",
      "No     5049.748000\n",
      "Yes    7380.817073\n",
      "Name: ApplicantIncome, dtype: float64\n"
     ]
    }
   ],
   "source": [
    "#5.How do the incomes of those who are employed compare to those who are self employed based on the historical dataset?\n",
    "income_comparison = df.groupby('Self_Employed')['ApplicantIncome'].mean()\n",
    "print(income_comparison )\n"
   ]
  },
  {
   "cell_type": "code",
   "execution_count": 96,
   "id": "930d26ce",
   "metadata": {},
   "outputs": [
    {
     "data": {
      "text/plain": [
       "Credit_History  Loan_Status\n",
       "0.0             N              0.921348\n",
       "                Y              0.078652\n",
       "1.0             Y              0.795789\n",
       "                N              0.204211\n",
       "Name: Loan_Status, dtype: float64"
      ]
     },
     "execution_count": 96,
     "metadata": {},
     "output_type": "execute_result"
    }
   ],
   "source": [
    "#6.Are applicants with a credit history more likely to default than those who do not have one?\n",
    "data = pd.read_csv(\"test.csv\")\n",
    "\n",
    "\n",
    "train.groupby('Credit_History')['Loan_Status'].value_counts(normalize=True)"
   ]
  },
  {
   "cell_type": "code",
   "execution_count": null,
   "id": "7b335d4a",
   "metadata": {},
   "outputs": [],
   "source": []
  },
  {
   "cell_type": "code",
   "execution_count": 97,
   "id": "60fc12e1",
   "metadata": {},
   "outputs": [
    {
     "name": "stdout",
     "output_type": "stream",
     "text": [
      "Correlation between Income and Loan Amount in the train dataset : 0.5709090389885669\n",
      "Correlation between Income and Loan Amount in the test dataset : 0.5709090389885669\n"
     ]
    }
   ],
   "source": [
    "#7.Is there a correlation between the applicant's income and the loan amount they applied for?\n",
    "correlation = train['ApplicantIncome'].corr(train['LoanAmount'])\n",
    "print(f\"Correlation between Income and Loan Amount in the train dataset : {correlation}\")\n",
    "\n",
    "orrelation = test['ApplicantIncome'].corr(test['LoanAmount'])\n",
    "print(f\"Correlation between Income and Loan Amount in the test dataset : {correlation}\")\n",
    "\n",
    "\n"
   ]
  },
  {
   "cell_type": "code",
   "execution_count": null,
   "id": "ba51473b",
   "metadata": {},
   "outputs": [],
   "source": [
    "\n",
    "\n"
   ]
  },
  {
   "cell_type": "code",
   "execution_count": null,
   "id": "49c8d7f6",
   "metadata": {},
   "outputs": [],
   "source": []
  },
  {
   "cell_type": "code",
   "execution_count": null,
   "id": "88ded764",
   "metadata": {},
   "outputs": [],
   "source": []
  }
 ],
 "metadata": {
  "kernelspec": {
   "display_name": "Python 3 (ipykernel)",
   "language": "python",
   "name": "python3"
  },
  "language_info": {
   "codemirror_mode": {
    "name": "ipython",
    "version": 3
   },
   "file_extension": ".py",
   "mimetype": "text/x-python",
   "name": "python",
   "nbconvert_exporter": "python",
   "pygments_lexer": "ipython3",
   "version": "3.10.9"
  }
 },
 "nbformat": 4,
 "nbformat_minor": 5
}
